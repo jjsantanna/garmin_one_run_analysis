{
 "cells": [
  {
   "cell_type": "code",
   "execution_count": 50,
   "id": "bdf5daa5",
   "metadata": {},
   "outputs": [],
   "source": [
    "import gpxpy\n",
    "import pandas as pd\n",
    "import geopy.distance"
   ]
  },
  {
   "cell_type": "code",
   "execution_count": 51,
   "id": "b8897c5d",
   "metadata": {},
   "outputs": [],
   "source": [
    "# Load gpx.\n",
    "gpx_path = 'activity_12568414515.gpx'"
   ]
  },
  {
   "cell_type": "code",
   "execution_count": 52,
   "id": "09a483d5",
   "metadata": {},
   "outputs": [],
   "source": [
    "with open(gpx_path) as f:\n",
    "    gpx = gpxpy.parse(f)\n",
    "\n",
    "# Convert to a dataframe one point at a time.\n",
    "points = []\n",
    "for segment in gpx.tracks[0].segments:\n",
    "    for p in segment.points:\n",
    "        points.append({\n",
    "            'time': p.time,\n",
    "            'latitude': p.latitude,\n",
    "            'longitude': p.longitude,\n",
    "            'elevation': p.elevation,\n",
    "        })\n",
    "df = pd.DataFrame.from_records(points)"
   ]
  },
  {
   "cell_type": "markdown",
   "id": "470ca966",
   "metadata": {},
   "source": [
    "### Cumulative distance"
   ]
  },
  {
   "cell_type": "code",
   "execution_count": 53,
   "id": "9e993fcb",
   "metadata": {},
   "outputs": [],
   "source": [
    "coords = [(p.latitude, p.longitude) for p in df.itertuples()]"
   ]
  },
  {
   "cell_type": "code",
   "execution_count": 54,
   "id": "322fa181",
   "metadata": {},
   "outputs": [],
   "source": [
    "df['distance'] = [0] + [geopy.distance.distance(from_, to).m for from_, to in zip(coords[:-1], coords[1:])]\n",
    "df['cumulative_distance'] = df.distance.cumsum()\n",
    "\n",
    "df['duration'] = df.time.diff().dt.total_seconds().fillna(0)\n",
    "df['cumulative_duration'] = df.duration.cumsum()\n",
    "df['pace_metric'] = pd.Series((df.duration / 60) / (df.distance / 1000)).bfill()"
   ]
  },
  {
   "cell_type": "code",
   "execution_count": null,
   "id": "aaf7cbce",
   "metadata": {},
   "outputs": [],
   "source": [
    "df['time']=pd.to_datetime(df['time'])"
   ]
  },
  {
   "cell_type": "code",
   "execution_count": 58,
   "id": "05eaccce",
   "metadata": {},
   "outputs": [
    {
     "data": {
      "text/html": [
       "<div>\n",
       "<style scoped>\n",
       "    .dataframe tbody tr th:only-of-type {\n",
       "        vertical-align: middle;\n",
       "    }\n",
       "\n",
       "    .dataframe tbody tr th {\n",
       "        vertical-align: top;\n",
       "    }\n",
       "\n",
       "    .dataframe thead th {\n",
       "        text-align: right;\n",
       "    }\n",
       "</style>\n",
       "<table border=\"1\" class=\"dataframe\">\n",
       "  <thead>\n",
       "    <tr style=\"text-align: right;\">\n",
       "      <th></th>\n",
       "      <th>time</th>\n",
       "      <th>latitude</th>\n",
       "      <th>longitude</th>\n",
       "      <th>elevation</th>\n",
       "      <th>distance</th>\n",
       "      <th>cumulative_distance</th>\n",
       "      <th>duration</th>\n",
       "      <th>cumulative_duration</th>\n",
       "      <th>pace_metric</th>\n",
       "    </tr>\n",
       "  </thead>\n",
       "  <tbody>\n",
       "    <tr>\n",
       "      <th>0</th>\n",
       "      <td>2023-11-02 11:31:16+00:00</td>\n",
       "      <td>52.244100</td>\n",
       "      <td>6.852351</td>\n",
       "      <td>28.600000</td>\n",
       "      <td>0.000000</td>\n",
       "      <td>0.000000</td>\n",
       "      <td>0.0</td>\n",
       "      <td>0.0</td>\n",
       "      <td>20.092780</td>\n",
       "    </tr>\n",
       "    <tr>\n",
       "      <th>1</th>\n",
       "      <td>2023-11-02 11:31:17+00:00</td>\n",
       "      <td>52.244097</td>\n",
       "      <td>6.852361</td>\n",
       "      <td>28.600000</td>\n",
       "      <td>0.829485</td>\n",
       "      <td>0.829485</td>\n",
       "      <td>1.0</td>\n",
       "      <td>1.0</td>\n",
       "      <td>20.092780</td>\n",
       "    </tr>\n",
       "    <tr>\n",
       "      <th>2</th>\n",
       "      <td>2023-11-02 11:31:18+00:00</td>\n",
       "      <td>52.244099</td>\n",
       "      <td>6.852377</td>\n",
       "      <td>28.600000</td>\n",
       "      <td>1.101995</td>\n",
       "      <td>1.931481</td>\n",
       "      <td>1.0</td>\n",
       "      <td>2.0</td>\n",
       "      <td>15.124080</td>\n",
       "    </tr>\n",
       "    <tr>\n",
       "      <th>3</th>\n",
       "      <td>2023-11-02 11:31:20+00:00</td>\n",
       "      <td>52.244092</td>\n",
       "      <td>6.852450</td>\n",
       "      <td>28.600000</td>\n",
       "      <td>5.059096</td>\n",
       "      <td>6.990577</td>\n",
       "      <td>2.0</td>\n",
       "      <td>4.0</td>\n",
       "      <td>6.588792</td>\n",
       "    </tr>\n",
       "    <tr>\n",
       "      <th>4</th>\n",
       "      <td>2023-11-02 11:31:22+00:00</td>\n",
       "      <td>52.244105</td>\n",
       "      <td>6.852549</td>\n",
       "      <td>28.799999</td>\n",
       "      <td>6.902292</td>\n",
       "      <td>13.892869</td>\n",
       "      <td>2.0</td>\n",
       "      <td>6.0</td>\n",
       "      <td>4.829313</td>\n",
       "    </tr>\n",
       "  </tbody>\n",
       "</table>\n",
       "</div>"
      ],
      "text/plain": [
       "                       time   latitude  longitude  elevation  distance  \\\n",
       "0 2023-11-02 11:31:16+00:00  52.244100   6.852351  28.600000  0.000000   \n",
       "1 2023-11-02 11:31:17+00:00  52.244097   6.852361  28.600000  0.829485   \n",
       "2 2023-11-02 11:31:18+00:00  52.244099   6.852377  28.600000  1.101995   \n",
       "3 2023-11-02 11:31:20+00:00  52.244092   6.852450  28.600000  5.059096   \n",
       "4 2023-11-02 11:31:22+00:00  52.244105   6.852549  28.799999  6.902292   \n",
       "\n",
       "   cumulative_distance  duration  cumulative_duration  pace_metric  \n",
       "0             0.000000       0.0                  0.0    20.092780  \n",
       "1             0.829485       1.0                  1.0    20.092780  \n",
       "2             1.931481       1.0                  2.0    15.124080  \n",
       "3             6.990577       2.0                  4.0     6.588792  \n",
       "4            13.892869       2.0                  6.0     4.829313  "
      ]
     },
     "execution_count": 58,
     "metadata": {},
     "output_type": "execute_result"
    }
   ],
   "source": [
    "df.head()"
   ]
  },
  {
   "cell_type": "code",
   "execution_count": 57,
   "id": "7a177cb4",
   "metadata": {},
   "outputs": [
    {
     "data": {
      "text/plain": [
       "<AxesSubplot:>"
      ]
     },
     "execution_count": 57,
     "metadata": {},
     "output_type": "execute_result"
    },
    {
     "data": {
      "image/png": "[encoded data removed]",
      "text/plain": [
       "<Figure size 432x288 with 1 Axes>"
      ]
     },
     "metadata": {
      "needs_background": "light"
     },
     "output_type": "display_data"
    }
   ],
   "source": [
    "df['pace_metric'].plot()"
   ]
  },
  {
   "cell_type": "code",
   "execution_count": 59,
   "id": "211a834e",
   "metadata": {},
   "outputs": [
    {
     "data": {
      "text/plain": [
       "[<matplotlib.lines.Line2D at 0x123b4bc10>]"
      ]
     },
     "execution_count": 59,
     "metadata": {},
     "output_type": "execute_result"
    },
    {
     "data": {
      "image/png": "[encoded data removed]",
      "text/plain": [
       "<Figure size 432x288 with 1 Axes>"
      ]
     },
     "metadata": {
      "needs_background": "light"
     },
     "output_type": "display_data"
    }
   ],
   "source": [
    "from numpy_ext import rolling_apply\n",
    "import matplotlib.pyplot as plt\n",
    "\n",
    "\n",
    "def rolling_metric_pace(duration, distance):\n",
    "    return (duration.sum() / 60) / (distance.sum() / 1000)\n",
    "\n",
    "\n",
    "x = df.cumulative_distance\n",
    "y = rolling_apply(rolling_metric_pace, 10, df.duration.values, df.distance.values)\n",
    "\n",
    "plt.plot(x, y)"
   ]
  },
  {
   "cell_type": "code",
   "execution_count": 62,
   "id": "f5af5dfe",
   "metadata": {},
   "outputs": [
    {
     "data": {
      "text/html": [
       "<div>\n",
       "<style scoped>\n",
       "    .dataframe tbody tr th:only-of-type {\n",
       "        vertical-align: middle;\n",
       "    }\n",
       "\n",
       "    .dataframe tbody tr th {\n",
       "        vertical-align: top;\n",
       "    }\n",
       "\n",
       "    .dataframe thead th {\n",
       "        text-align: right;\n",
       "    }\n",
       "</style>\n",
       "<table border=\"1\" class=\"dataframe\">\n",
       "  <thead>\n",
       "    <tr style=\"text-align: right;\">\n",
       "      <th></th>\n",
       "      <th>time</th>\n",
       "      <th>latitude</th>\n",
       "      <th>longitude</th>\n",
       "      <th>elevation</th>\n",
       "      <th>distance</th>\n",
       "      <th>cumulative_distance</th>\n",
       "      <th>duration</th>\n",
       "      <th>cumulative_duration</th>\n",
       "      <th>pace_metric</th>\n",
       "    </tr>\n",
       "  </thead>\n",
       "  <tbody>\n",
       "    <tr>\n",
       "      <th>456</th>\n",
       "      <td>2023-11-02 12:01:04+00:00</td>\n",
       "      <td>52.244446</td>\n",
       "      <td>6.852089</td>\n",
       "      <td>31.0</td>\n",
       "      <td>17.381171</td>\n",
       "      <td>5739.794565</td>\n",
       "      <td>5.0</td>\n",
       "      <td>1788.0</td>\n",
       "      <td>4.794460</td>\n",
       "    </tr>\n",
       "    <tr>\n",
       "      <th>457</th>\n",
       "      <td>2023-11-02 12:01:05+00:00</td>\n",
       "      <td>52.244411</td>\n",
       "      <td>6.852096</td>\n",
       "      <td>31.4</td>\n",
       "      <td>3.977967</td>\n",
       "      <td>5743.772531</td>\n",
       "      <td>1.0</td>\n",
       "      <td>1789.0</td>\n",
       "      <td>4.189745</td>\n",
       "    </tr>\n",
       "    <tr>\n",
       "      <th>458</th>\n",
       "      <td>2023-11-02 12:01:11+00:00</td>\n",
       "      <td>52.244215</td>\n",
       "      <td>6.852161</td>\n",
       "      <td>32.0</td>\n",
       "      <td>22.230997</td>\n",
       "      <td>5766.003528</td>\n",
       "      <td>6.0</td>\n",
       "      <td>1795.0</td>\n",
       "      <td>4.498224</td>\n",
       "    </tr>\n",
       "    <tr>\n",
       "      <th>459</th>\n",
       "      <td>2023-11-02 12:01:16+00:00</td>\n",
       "      <td>52.244102</td>\n",
       "      <td>6.852348</td>\n",
       "      <td>31.6</td>\n",
       "      <td>17.899480</td>\n",
       "      <td>5783.903007</td>\n",
       "      <td>5.0</td>\n",
       "      <td>1800.0</td>\n",
       "      <td>4.655629</td>\n",
       "    </tr>\n",
       "    <tr>\n",
       "      <th>460</th>\n",
       "      <td>2023-11-02 12:01:18+00:00</td>\n",
       "      <td>52.244071</td>\n",
       "      <td>6.852442</td>\n",
       "      <td>31.4</td>\n",
       "      <td>7.270530</td>\n",
       "      <td>5791.173538</td>\n",
       "      <td>2.0</td>\n",
       "      <td>1802.0</td>\n",
       "      <td>4.584718</td>\n",
       "    </tr>\n",
       "  </tbody>\n",
       "</table>\n",
       "</div>"
      ],
      "text/plain": [
       "                         time   latitude  longitude  elevation   distance  \\\n",
       "456 2023-11-02 12:01:04+00:00  52.244446   6.852089       31.0  17.381171   \n",
       "457 2023-11-02 12:01:05+00:00  52.244411   6.852096       31.4   3.977967   \n",
       "458 2023-11-02 12:01:11+00:00  52.244215   6.852161       32.0  22.230997   \n",
       "459 2023-11-02 12:01:16+00:00  52.244102   6.852348       31.6  17.899480   \n",
       "460 2023-11-02 12:01:18+00:00  52.244071   6.852442       31.4   7.270530   \n",
       "\n",
       "     cumulative_distance  duration  cumulative_duration  pace_metric  \n",
       "456          5739.794565       5.0               1788.0     4.794460  \n",
       "457          5743.772531       1.0               1789.0     4.189745  \n",
       "458          5766.003528       6.0               1795.0     4.498224  \n",
       "459          5783.903007       5.0               1800.0     4.655629  \n",
       "460          5791.173538       2.0               1802.0     4.584718  "
      ]
     },
     "execution_count": 62,
     "metadata": {},
     "output_type": "execute_result"
    }
   ],
   "source": [
    "df.tail()"
   ]
  },
  {
   "cell_type": "code",
   "execution_count": 60,
   "id": "c5677a55",
   "metadata": {},
   "outputs": [
    {
     "data": {
      "text/plain": [
       "array([       nan,        nan,        nan,        nan,        nan,\n",
       "              nan,        nan,        nan,        nan, 6.47445775,\n",
       "       6.41525531, 6.20133274, 5.99007868, 5.97145284, 5.78952093,\n",
       "       5.92635389, 5.99050595, 6.06792821, 6.07213553, 5.89707252,\n",
       "       5.98487278, 6.03829448, 6.21148372, 6.2283998 , 6.57192755,\n",
       "       6.65558982, 6.60002169, 6.57318556, 6.46168081, 6.35272008,\n",
       "       6.31551777, 6.35130322, 6.32519834, 6.29820721, 6.26376149,\n",
       "       6.201373  , 6.16725621, 6.40883322, 6.53633231, 6.75515251,\n",
       "       6.85717896, 6.90347378, 6.91760892, 7.01874967, 7.20091556,\n",
       "       7.53782548, 7.54023777, 7.35119101, 7.3822071 , 7.01557211,\n",
       "       6.97088766, 6.8384657 , 7.00924213, 6.92986063, 6.96442219,\n",
       "       6.75677103, 6.74224256, 6.54896535, 6.4168125 , 6.53417672,\n",
       "       6.51218764, 6.5572194 , 6.41690382, 6.4836278 , 6.30986871,\n",
       "       6.36132476, 6.36729205, 6.500643  , 6.45535871, 6.50747324,\n",
       "       6.45205358, 6.31107793, 6.28306301, 6.23446   , 6.20289623,\n",
       "       6.32900013, 6.34324122, 6.27381328, 6.31296085, 6.26505925,\n",
       "       6.29080147, 6.27245989, 6.19020431, 6.16838067, 6.05171729,\n",
       "       5.7508781 , 5.7320651 , 5.61533417, 5.51863743, 5.41531449,\n",
       "       5.34363201, 5.2925332 , 5.28740956, 5.26505671, 5.23352159,\n",
       "       5.2602581 , 5.21844231, 5.203941  , 5.27186401, 5.30856669,\n",
       "       5.38323708, 5.44433278, 5.48857465, 5.54469159, 5.51333398,\n",
       "       5.46899238, 5.52347854, 5.5222628 , 5.48794518, 5.47367712,\n",
       "       5.47934046, 5.47578031, 5.45184546, 5.45314932, 5.41563442,\n",
       "       5.58699885, 5.61513975, 5.70656742, 5.75341533, 5.74854917,\n",
       "       5.75749944, 5.77006653, 5.8010703 , 5.79100264, 5.90339359,\n",
       "       5.79270777, 5.75466839, 5.73023075, 5.65123764, 5.5898643 ,\n",
       "       5.55511452, 5.58640174, 5.54706195, 5.47487536, 5.39071138,\n",
       "       5.40071856, 5.38705688, 5.38644304, 5.35336845, 5.40483148,\n",
       "       5.38088874, 5.40243656, 5.44620373, 5.52911839, 5.54200302,\n",
       "       5.51045327, 5.51855384, 5.38933563, 5.4754565 , 5.4819491 ,\n",
       "       5.51600597, 5.54126083, 5.51341855, 5.4657067 , 5.51035259,\n",
       "       5.49228009, 5.48058211, 5.61750171, 5.59905963, 5.6213788 ,\n",
       "       5.60491647, 5.57761045, 5.52177186, 5.52257769, 5.49729404,\n",
       "       5.41271893, 5.31113197, 5.2212621 , 4.9762981 , 4.75556451,\n",
       "       4.60253465, 4.38146904, 4.32797642, 4.32463411, 4.32927387,\n",
       "       4.33222465, 4.3196059 , 4.3253387 , 4.4026928 , 4.45516072,\n",
       "       4.50612536, 4.52030059, 4.47253525, 4.65608736, 4.72272143,\n",
       "       4.85822741, 4.89958384, 4.9383436 , 4.9683276 , 4.94817206,\n",
       "       4.98141005, 4.95874192, 5.02522293, 4.99311673, 4.95812723,\n",
       "       4.93337729, 4.93703414, 4.9480047 , 4.96790354, 5.07529996,\n",
       "       5.0409907 , 5.09143895, 5.08450513, 5.05331625, 5.06495456,\n",
       "       5.03078164, 5.06153772, 5.05704199, 5.06137181, 5.08218102,\n",
       "       5.14521029, 5.15476441, 5.20570835, 5.23274599, 5.16586554,\n",
       "       5.19859396, 5.17115239, 5.15167854, 5.07598331, 4.98880996,\n",
       "       4.9326529 , 4.86983214, 4.77438375, 4.75940873, 4.79238953,\n",
       "       4.80575018, 4.79085091, 4.78499005, 4.81400373, 4.81267452,\n",
       "       4.80754412, 4.82447498, 4.84483597, 4.88637396, 4.99351107,\n",
       "       4.94126258, 4.94625023, 4.95262243, 4.91681615, 4.96933708,\n",
       "       4.97292809, 4.99035715, 4.96004344, 4.97206414, 4.84931823,\n",
       "       4.91156276, 4.89333567, 4.90361144, 4.8864098 , 4.872878  ,\n",
       "       4.85908271, 4.88220797, 4.88563792, 4.8498918 , 4.90781673,\n",
       "       4.83999916, 4.85302815, 4.88046586, 4.93843056, 4.89464642,\n",
       "       4.91758614, 4.91095896, 4.97858152, 5.00263872, 5.00046854,\n",
       "       5.01152805, 5.017631  , 5.04012777, 5.0555975 , 5.05700964,\n",
       "       5.06757409, 5.01432851, 4.95790312, 4.93543082, 4.91312338,\n",
       "       4.90304454, 4.92254261, 4.91155054, 4.90343112, 4.884756  ,\n",
       "       4.90935809, 4.91974266, 4.96081871, 4.94360378, 4.92354225,\n",
       "       4.95917877, 4.92391697, 4.84978856, 4.8070683 , 4.80194765,\n",
       "       4.80968858, 4.90686784, 4.81088211, 4.84106581, 4.84273472,\n",
       "       4.82417773, 4.83756348, 4.84791659, 4.91757078, 4.92435639,\n",
       "       4.91932144, 4.82826387, 4.92919134, 4.90751565, 4.94941799,\n",
       "       4.90854971, 4.98369257, 4.97365127, 4.96898499, 5.02722045,\n",
       "       5.05979026, 5.04612548, 5.03240295, 5.07299237, 5.03522713,\n",
       "       5.10871256, 4.9981227 , 5.02499794, 4.9396736 , 5.0163741 ,\n",
       "       5.03054012, 5.08348707, 5.05066198, 5.04474843, 5.06077375,\n",
       "       5.04029096, 5.06043396, 4.95858858, 4.99932297, 4.89487895,\n",
       "       4.8475249 , 4.82798675, 4.8392452 , 4.80452255, 4.79144337,\n",
       "       4.77496793, 4.73892548, 4.80762893, 4.84023282, 4.79632982,\n",
       "       4.77358611, 4.79766781, 4.75703457, 4.76232462, 4.7680091 ,\n",
       "       4.77187707, 4.77243864, 4.7469192 , 4.6892583 , 4.83782847,\n",
       "       4.91421302, 4.91881626, 4.90639965, 4.89732809, 4.84686491,\n",
       "       4.8459843 , 4.84026568, 4.88246688, 4.94093856, 4.86633922,\n",
       "       4.82555293, 4.84392787, 4.88747362, 4.89780781, 4.9262432 ,\n",
       "       4.92509607, 4.95668457, 4.9094856 , 4.85945882, 4.89313704,\n",
       "       4.88636002, 4.80109164, 4.78434671, 4.91808694, 4.93966408,\n",
       "       5.00195011, 5.01594284, 5.07778596, 5.03206484, 4.98504012,\n",
       "       5.00235358, 5.0586389 , 5.02799442, 4.93103817, 4.91996728,\n",
       "       4.90090735, 4.87510706, 4.88059121, 4.92167934, 4.93545078,\n",
       "       4.93231805, 4.93041918, 4.94743665, 4.97924748, 4.9979856 ,\n",
       "       4.95313661, 4.95490153, 4.9571845 , 4.96949552, 4.98263958,\n",
       "       4.88645083, 4.96059539, 4.97988518, 5.04760366, 4.99629833,\n",
       "       5.02830461, 5.05869923, 5.05695907, 4.95635229, 4.87197255,\n",
       "       4.87374437, 4.81667397, 4.80987596, 4.7070706 , 4.70168063,\n",
       "       4.66793392, 4.64018293, 4.64092724, 4.69140399, 4.71627102,\n",
       "       4.75159886, 4.7196318 , 4.69739813, 4.69870066, 4.72014693,\n",
       "       4.72081724, 4.6769216 , 4.67827689, 4.76568612, 4.83532151,\n",
       "       4.84190617, 4.86900624, 4.90077614, 4.92218599, 4.90245189,\n",
       "       4.90482298, 4.89037736, 4.89292394, 4.75488114, 4.69118407,\n",
       "       4.67711719, 4.70070035, 4.66068532, 4.68253477, 4.6964746 ,\n",
       "       4.74733153, 4.75315681, 4.79620131, 4.8494435 , 4.83967335,\n",
       "       4.83035168, 4.79954556, 4.79275936, 4.74045942, 4.74629129,\n",
       "       4.7304009 , 4.7359726 , 4.65455403, 4.61211147, 4.61016559,\n",
       "       4.61449817])"
      ]
     },
     "execution_count": 60,
     "metadata": {},
     "output_type": "execute_result"
    }
   ],
   "source": [
    "y"
   ]
  },
  {
   "cell_type": "markdown",
   "id": "ca7a96aa",
   "metadata": {},
   "source": [
    "## Threshold Heart Rate"
   ]
  },
  {
   "cell_type": "markdown",
   "id": "713f32e1",
   "metadata": {},
   "source": [
    "Your estimated  Lactate Threshold Heart Rate (LTHR) is 95% of your 20-minute average heart rate for the test."
   ]
  },
  {
   "cell_type": "code",
   "execution_count": null,
   "id": "7adeecb3",
   "metadata": {},
   "outputs": [],
   "source": []
  }
 ],
 "metadata": {
  "kernelspec": {
   "display_name": "Python 3",
   "language": "python",
   "name": "python3"
  },
  "language_info": {
   "codemirror_mode": {
    "name": "ipython",
    "version": 3
   },
   "file_extension": ".py",
   "mimetype": "text/x-python",
   "name": "python",
   "nbconvert_exporter": "python",
   "pygments_lexer": "ipython3",
   "version": "3.9.16"
  }
 },
 "nbformat": 4,
 "nbformat_minor": 5
}
